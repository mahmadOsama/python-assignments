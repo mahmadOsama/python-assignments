{
 "cells": [
  {
   "cell_type": "markdown",
   "id": "12eeff0e",
   "metadata": {},
   "source": [
    "NumPy Assignment - Complete Solution"
   ]
  },
  {
   "cell_type": "markdown",
   "id": "2875cf8d",
   "metadata": {},
   "source": [
    "Part 1: Creating NumPy Arrays"
   ]
  },
  {
   "cell_type": "markdown",
   "id": "b9edae34",
   "metadata": {},
   "source": [
    "1. Using Built-in Methods"
   ]
  },
  {
   "cell_type": "markdown",
   "id": "59884edb",
   "metadata": {},
   "source": [
    "Import NumPy Library"
   ]
  },
  {
   "cell_type": "code",
   "execution_count": 2,
   "id": "4270e661",
   "metadata": {},
   "outputs": [],
   "source": [
    "import numpy as np"
   ]
  },
  {
   "cell_type": "markdown",
   "id": "5eac1e00",
   "metadata": {},
   "source": [
    "Create Array from 0 to 20 with step 2"
   ]
  },
  {
   "cell_type": "code",
   "execution_count": 3,
   "id": "33482654",
   "metadata": {},
   "outputs": [
    {
     "name": "stdout",
     "output_type": "stream",
     "text": [
      "Array from 0 to 20 with step 2: [ 0  2  4  6  8 10 12 14 16 18 20]\n"
     ]
    }
   ],
   "source": [
    "print(\"Array from 0 to 20 with step 2:\", np.arange(0, 21, 2))"
   ]
  },
  {
   "cell_type": "markdown",
   "id": "ee67a8ac",
   "metadata": {},
   "source": [
    "Create 3x3 Identity Matrix"
   ]
  },
  {
   "cell_type": "code",
   "execution_count": 4,
   "id": "035a6976",
   "metadata": {},
   "outputs": [
    {
     "name": "stdout",
     "output_type": "stream",
     "text": [
      "3x3 identity matrix:\n",
      "[[1. 0. 0.]\n",
      " [0. 1. 0.]\n",
      " [0. 0. 1.]]\n"
     ]
    }
   ],
   "source": [
    "print(\"3x3 identity matrix:\")\n",
    "print(np.eye(3))"
   ]
  },
  {
   "cell_type": "markdown",
   "id": "ab7d4ed3",
   "metadata": {},
   "source": [
    "Create 4x4 Array of Ones"
   ]
  },
  {
   "cell_type": "code",
   "execution_count": 5,
   "id": "e8a42cc8",
   "metadata": {},
   "outputs": [
    {
     "name": "stdout",
     "output_type": "stream",
     "text": [
      "4x4 array filled with ones:\n",
      "[[1. 1. 1. 1.]\n",
      " [1. 1. 1. 1.]\n",
      " [1. 1. 1. 1.]\n",
      " [1. 1. 1. 1.]]\n"
     ]
    }
   ],
   "source": [
    "print(\"4x4 array filled with ones:\")\n",
    "print(np.ones((4, 4)))"
   ]
  },
  {
   "cell_type": "markdown",
   "id": "cca7277a",
   "metadata": {},
   "source": [
    "Create 10 Equally Spaced Numbers"
   ]
  },
  {
   "cell_type": "code",
   "execution_count": null,
   "id": "af87f2bf",
   "metadata": {},
   "outputs": [],
   "source": [
    "print(\"10 equally spaced numbers between 5 and 50:\", np.linspace(5, 50, 10))"
   ]
  },
  {
   "cell_type": "markdown",
   "id": "99a77e0a",
   "metadata": {},
   "source": [
    "2. Creating Arrays from Lists"
   ]
  },
  {
   "cell_type": "markdown",
   "id": "f31a64db",
   "metadata": {},
   "source": [
    "Convert Python List to NumPy Array"
   ]
  },
  {
   "cell_type": "code",
   "execution_count": null,
   "id": "131ed4e4",
   "metadata": {},
   "outputs": [],
   "source": [
    "my_list = [10, 20, 30, 40, 50]\n",
    "print(\"NumPy array from list:\", np.array(my_list))"
   ]
  },
  {
   "cell_type": "markdown",
   "id": "b1cb6218",
   "metadata": {},
   "source": [
    "Generate 3x3 Random Matrices"
   ]
  },
  {
   "cell_type": "code",
   "execution_count": null,
   "id": "e93663f8",
   "metadata": {},
   "outputs": [],
   "source": [
    "print(\"3x3 matrix using rand():\")\n",
    "print(np.random.rand(3, 3))"
   ]
  },
  {
   "cell_type": "code",
   "execution_count": null,
   "id": "f6577d6a",
   "metadata": {},
   "outputs": [],
   "source": [
    "print(\"3x3 matrix using randn():\")\n",
    "print(np.random.randn(3, 3))"
   ]
  },
  {
   "cell_type": "code",
   "execution_count": null,
   "id": "b549b78b",
   "metadata": {},
   "outputs": [],
   "source": [
    "print(\"3x3 matrix using randint():\")\n",
    "print(np.random.randint(0, 10, (3, 3)))"
   ]
  },
  {
   "cell_type": "markdown",
   "id": "7a05b402",
   "metadata": {},
   "source": [
    "3. Array Attributes"
   ]
  },
  {
   "cell_type": "code",
   "execution_count": null,
   "id": "813c5633",
   "metadata": {},
   "outputs": [],
   "source": [
    "ones_matrix = np.ones((4, 4))\n",
    "print(\"Shape of ones_matrix:\", ones_matrix.shape)\n",
    "print(\"Size of ones_matrix:\", ones_matrix.size)\n",
    "print(\"Data type of ones_matrix:\", ones_matrix.dtype)"
   ]
  },
  {
   "cell_type": "markdown",
   "id": "9a0a5fe1",
   "metadata": {},
   "source": [
    "Part 2: Indexing and Selection"
   ]
  },
  {
   "cell_type": "markdown",
   "id": "839d0c21",
   "metadata": {},
   "source": [
    "1. Basic Indexing and Selection"
   ]
  },
  {
   "cell_type": "code",
   "execution_count": null,
   "id": "079364d1",
   "metadata": {},
   "outputs": [],
   "source": [
    "arr = np.array([5, 10, 15, 20, 25, 30])\n",
    "print(\"Original array:\", arr)\n",
    "print(\"First element:\", arr[0])\n",
    "print(\"Last three elements:\", arr[-3:])\n",
    "print(\"Elements at index 1 to 4:\", arr[1:5])"
   ]
  },
  {
   "cell_type": "markdown",
   "id": "c3bceeae",
   "metadata": {},
   "source": [
    "2. Slicing and Views"
   ]
  },
  {
   "cell_type": "code",
   "execution_count": null,
   "id": "1c223790",
   "metadata": {},
   "outputs": [],
   "source": [
    "matrix = np.arange(1, 10).reshape(3, 3)\n",
    "print(\"3x3 matrix:\")\n",
    "print(matrix)\n",
    "print(\"Second row:\", matrix[1])\n",
    "print(\"First two columns:\")\n",
    "print(matrix[:, :2])\n",
    "print(\"2x2 sub-matrix:\")\n",
    "print(matrix[:2, :2])"
   ]
  },
  {
   "cell_type": "markdown",
   "id": "d61d2fee",
   "metadata": {},
   "source": [
    "3. Broadcasting"
   ]
  },
  {
   "cell_type": "code",
   "execution_count": 6,
   "id": "f1e95370",
   "metadata": {},
   "outputs": [
    {
     "name": "stdout",
     "output_type": "stream",
     "text": [
      "Original matrix:\n",
      "[[1 2 3]\n",
      " [4 5 6]\n",
      " [7 8 9]]\n"
     ]
    }
   ],
   "source": [
    "test_matrix = np.array([[1, 2, 3], [4, 5, 6], [7, 8, 9]])\n",
    "print(\"Original matrix:\")\n",
    "print(test_matrix)"
   ]
  },
  {
   "cell_type": "code",
   "execution_count": 7,
   "id": "5068ac67",
   "metadata": {},
   "outputs": [
    {
     "name": "stdout",
     "output_type": "stream",
     "text": [
      "After adding 10:\n",
      "[[11 12 13]\n",
      " [14 15 16]\n",
      " [17 18 19]]\n"
     ]
    }
   ],
   "source": [
    "result1 = test_matrix + 10\n",
    "print(\"After adding 10:\")\n",
    "print(result1)"
   ]
  },
  {
   "cell_type": "code",
   "execution_count": null,
   "id": "78f8bffc",
   "metadata": {},
   "outputs": [],
   "source": [
    "test_matrix[:, 0] = test_matrix[:, 0] * 2\n",
    "print(\"After multiplying first column by 2:\")\n",
    "print(test_matrix)"
   ]
  },
  {
   "cell_type": "markdown",
   "id": "a7e8445f",
   "metadata": {},
   "source": [
    "4. Copying Arrays"
   ]
  },
  {
   "cell_type": "code",
   "execution_count": 8,
   "id": "0cfd8eea",
   "metadata": {},
   "outputs": [
    {
     "name": "stdout",
     "output_type": "stream",
     "text": [
      "After modifying shallow copy:\n",
      "Original: [99  2  3  4  5]\n",
      "Shallow copy: [99  2  3  4  5]\n"
     ]
    }
   ],
   "source": [
    "original = np.array([1, 2, 3, 4, 5])\n",
    "shallow_copy = original\n",
    "shallow_copy[0] = 99\n",
    "print(\"After modifying shallow copy:\")\n",
    "print(\"Original:\", original)\n",
    "print(\"Shallow copy:\", shallow_copy)"
   ]
  },
  {
   "cell_type": "code",
   "execution_count": 9,
   "id": "b5fbf0a2",
   "metadata": {},
   "outputs": [
    {
     "name": "stdout",
     "output_type": "stream",
     "text": [
      "After modifying deep copy:\n",
      "Original: [1 2 3 4 5]\n",
      "Deep copy: [99  2  3  4  5]\n"
     ]
    }
   ],
   "source": [
    "original = np.array([1, 2, 3, 4, 5])\n",
    "deep_copy = original.copy()\n",
    "deep_copy[0] = 99\n",
    "print(\"After modifying deep copy:\")\n",
    "print(\"Original:\", original)\n",
    "print(\"Deep copy:\", deep_copy)"
   ]
  },
  {
   "cell_type": "markdown",
   "id": "047a2463",
   "metadata": {},
   "source": [
    "5. Fancy Indexing"
   ]
  },
  {
   "cell_type": "code",
   "execution_count": null,
   "id": "fffeb34f",
   "metadata": {},
   "outputs": [],
   "source": [
    "arr2 = np.arange(10, 101, 10)\n",
    "print(\"Array:\", arr2)\n",
    "selected = arr2[[0, 3, 5]]\n",
    "print(\"Elements at indices [0, 3, 5]:\", selected)"
   ]
  },
  {
   "cell_type": "markdown",
   "id": "92f1c2f9",
   "metadata": {},
   "source": [
    "Part 3: NumPy Operations"
   ]
  },
  {
   "cell_type": "markdown",
   "id": "107474c6",
   "metadata": {},
   "source": [
    "1. Mathematical Functions"
   ]
  },
  {
   "cell_type": "code",
   "execution_count": null,
   "id": "b3c5e70a",
   "metadata": {},
   "outputs": [],
   "source": [
    "math_array = np.array([3, 7, 2, 9, 12, 5, 10])\n",
    "print(\"Array:\", math_array)\n",
    "print(\"Maximum value:\", np.max(math_array))\n",
    "print(\"Minimum value:\", np.min(math_array))\n",
    "print(\"Index of maximum:\", np.argmax(math_array))\n",
    "print(\"Index of minimum:\", np.argmin(math_array))"
   ]
  },
  {
   "cell_type": "markdown",
   "id": "5fa2655b",
   "metadata": {},
   "source": [
    "2. Universal Array Functions"
   ]
  },
  {
   "cell_type": "code",
   "execution_count": 10,
   "id": "84f3e847",
   "metadata": {},
   "outputs": [
    {
     "name": "stdout",
     "output_type": "stream",
     "text": [
      "Original array: [1 2 3 4 5]\n",
      "Square root: [1.         1.41421356 1.73205081 2.         2.23606798]\n",
      "Exponential: [  2.71828183   7.3890561   20.08553692  54.59815003 148.4131591 ]\n",
      "Sine: [ 0.84147098  0.90929743  0.14112001 -0.7568025  -0.95892427]\n",
      "Natural logarithm: [0.         0.69314718 1.09861229 1.38629436 1.60943791]\n"
     ]
    }
   ],
   "source": [
    "func_array = np.array([1, 2, 3, 4, 5])\n",
    "print(\"Original array:\", func_array)\n",
    "print(\"Square root:\", np.sqrt(func_array))\n",
    "print(\"Exponential:\", np.exp(func_array))\n",
    "print(\"Sine:\", np.sin(func_array))\n",
    "print(\"Natural logarithm:\", np.log(func_array))"
   ]
  }
 ],
 "metadata": {
  "kernelspec": {
   "display_name": "venv",
   "language": "python",
   "name": "python3"
  },
  "language_info": {
   "codemirror_mode": {
    "name": "ipython",
    "version": 3
   },
   "file_extension": ".py",
   "mimetype": "text/x-python",
   "name": "python",
   "nbconvert_exporter": "python",
   "pygments_lexer": "ipython3",
   "version": "3.13.1"
  }
 },
 "nbformat": 4,
 "nbformat_minor": 5
}
