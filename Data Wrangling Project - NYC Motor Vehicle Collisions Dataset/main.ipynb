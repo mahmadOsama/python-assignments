{
 "cells": [
  {
   "cell_type": "code",
   "execution_count": null,
   "id": "dc6b1666",
   "metadata": {},
   "outputs": [],
   "source": [
    "import pandas as pd\n",
    "import numpy as np"
   ]
  },
  {
   "cell_type": "code",
   "execution_count": null,
   "id": "b3a7b63f",
   "metadata": {},
   "outputs": [],
   "source": [
    "df=pd.read_csv(\"Motor_Vehicle_Collisions_-_Crashes.csv\")\n",
    "df.head()\n"
   ]
  },
  {
   "cell_type": "code",
   "execution_count": null,
   "id": "999508cc",
   "metadata": {},
   "outputs": [],
   "source": [
    "df.to_json('collisions_raw.json', orient='records', lines=True)\n",
    "df.to_parquet('collisions_raw.parquet')"
   ]
  },
  {
   "cell_type": "code",
   "execution_count": null,
   "id": "7aff9748",
   "metadata": {},
   "outputs": [],
   "source": [
    "\n",
    "\n",
    "# dtypes: float64(4), int64(7), object(18)\n",
    "\n",
    "# df.info()\n",
    "object_columns = df.select_dtypes(include='int64').columns\n",
    "print(object_columns)"
   ]
  },
  {
   "cell_type": "code",
   "execution_count": null,
   "id": "4ca65f74",
   "metadata": {},
   "outputs": [],
   "source": [
    "object_columns = df.select_dtypes(include='object').columns\n",
    "print(object_columns)"
   ]
  },
  {
   "cell_type": "code",
   "execution_count": null,
   "id": "d1efe58a",
   "metadata": {},
   "outputs": [],
   "source": [
    "object_columns = df.select_dtypes(include='float64').columns\n",
    "print(object_columns)"
   ]
  },
  {
   "cell_type": "code",
   "execution_count": null,
   "id": "493c2f02",
   "metadata": {},
   "outputs": [],
   "source": [
    "df.info()"
   ]
  },
  {
   "cell_type": "code",
   "execution_count": null,
   "id": "d1f14a45",
   "metadata": {},
   "outputs": [],
   "source": [
    "df.describe()"
   ]
  },
  {
   "cell_type": "code",
   "execution_count": null,
   "id": "c253599b",
   "metadata": {},
   "outputs": [],
   "source": [
    "df.isnull().sum()\n"
   ]
  },
  {
   "cell_type": "code",
   "execution_count": null,
   "id": "d1bbf7d7",
   "metadata": {},
   "outputs": [],
   "source": [
    "df = df.dropna(subset=[\"BOROUGH\", \"LATITUDE\", \"LONGITUDE\", \"LOCATION\"])\n"
   ]
  },
  {
   "cell_type": "code",
   "execution_count": null,
   "id": "057781f5",
   "metadata": {},
   "outputs": [],
   "source": [
    "numeric_cols = [\"NUMBER OF PERSONS INJURED\", \"NUMBER OF PERSONS KILLED\"]\n",
    "df[numeric_cols] = df[numeric_cols].fillna(0)"
   ]
  },
  {
   "cell_type": "code",
   "execution_count": null,
   "id": "41f38214",
   "metadata": {},
   "outputs": [],
   "source": [
    "catstrig_cols=[ 'ZIP CODE','ON STREET NAME', 'CROSS STREET NAME', 'OFF STREET NAME',\n",
    "       'CONTRIBUTING FACTOR VEHICLE 1', 'CONTRIBUTING FACTOR VEHICLE 2',\n",
    "       'CONTRIBUTING FACTOR VEHICLE 3', 'CONTRIBUTING FACTOR VEHICLE 4',\n",
    "       'CONTRIBUTING FACTOR VEHICLE 5', 'VEHICLE TYPE CODE 1',\n",
    "       'VEHICLE TYPE CODE 2', 'VEHICLE TYPE CODE 3', 'VEHICLE TYPE CODE 4',\n",
    "       'VEHICLE TYPE CODE 5']\n",
    "df[catstrig_cols]=df[catstrig_cols].fillna(\"Unknown\")"
   ]
  },
  {
   "cell_type": "code",
   "execution_count": null,
   "id": "1d148acd",
   "metadata": {},
   "outputs": [],
   "source": [
    "df.isnull().sum() \n"
   ]
  },
  {
   "cell_type": "code",
   "execution_count": null,
   "id": "f733419a",
   "metadata": {},
   "outputs": [],
   "source": [
    "#convert date time datatype\n",
    "Datime=df['CRASH DATE'] + ' ' + df['CRASH TIME']\n",
    "df['Full_Date']=pd.to_datetime(Datime)"
   ]
  },
  {
   "cell_type": "code",
   "execution_count": null,
   "id": "48b40e90",
   "metadata": {},
   "outputs": [],
   "source": [
    "#convert floattype to int64\n",
    "df['NUMBER OF PERSONS INJURED']=df['NUMBER OF PERSONS INJURED'].astype('Int64')\n",
    "df['NUMBER OF PERSONS KILLED']=df['NUMBER OF PERSONS KILLED'].astype('Int64')"
   ]
  },
  {
   "cell_type": "code",
   "execution_count": null,
   "id": "3bf4ef99",
   "metadata": {},
   "outputs": [],
   "source": [
    "df['BOROUGH'] = df['BOROUGH'].astype('category')\n",
    "df['CONTRIBUTING FACTOR VEHICLE 1'] = df['CONTRIBUTING FACTOR VEHICLE 1'].astype('category')\n",
    "df['CONTRIBUTING FACTOR VEHICLE 2'] = df['CONTRIBUTING FACTOR VEHICLE 2'].astype('category')\n",
    "df['CONTRIBUTING FACTOR VEHICLE 3']=df['CONTRIBUTING FACTOR VEHICLE 3'].astype('category')\n",
    "df['CONTRIBUTING FACTOR VEHICLE 4']=df['CONTRIBUTING FACTOR VEHICLE 4'].astype('category')\n",
    "df['CONTRIBUTING FACTOR VEHICLE 5']=df['CONTRIBUTING FACTOR VEHICLE 5'].astype('category')"
   ]
  },
  {
   "cell_type": "code",
   "execution_count": null,
   "id": "c32310d6",
   "metadata": {},
   "outputs": [],
   "source": [
    "factor_cols = [\n",
    "    'CONTRIBUTING FACTOR VEHICLE 1',\n",
    "    'CONTRIBUTING FACTOR VEHICLE 2',\n",
    "    'CONTRIBUTING FACTOR VEHICLE 3',\n",
    "    'CONTRIBUTING FACTOR VEHICLE 4',\n",
    "    'CONTRIBUTING FACTOR VEHICLE 5'\n",
    "]\n",
    "\n",
    "for col in factor_cols:\n",
    "    df[col] = df[col].astype('category')\n",
    "    "
   ]
  },
  {
   "cell_type": "code",
   "execution_count": null,
   "id": "e93ca3dd",
   "metadata": {},
   "outputs": [],
   "source": [
    "print(\"befor cleaning\")\n",
    "print(df[['BOROUGH', 'CONTRIBUTING FACTOR VEHICLE 1']].sample(5, random_state=1))"
   ]
  },
  {
   "cell_type": "code",
   "execution_count": null,
   "id": "415fde44",
   "metadata": {},
   "outputs": [],
   "source": [
    "\n",
    "\n",
    "\n",
    "text_cols = df.select_dtypes(include=['object', 'category']).columns\n",
    "\n",
    "for col in text_cols:\n",
    "    df[col] = (\n",
    "        df[col]\n",
    "        .astype(str)          \n",
    "        .str.strip()          \n",
    "        .str.title()          \n",
    "        .replace({'0': np.nan, 'Unspecified': np.nan, 'Nan': np.nan})\n",
    "    )\n"
   ]
  },
  {
   "cell_type": "code",
   "execution_count": null,
   "id": "fc428c09",
   "metadata": {},
   "outputs": [],
   "source": [
    "print(\"after cleaning\")\n",
    "print(df[['BOROUGH', 'CONTRIBUTING FACTOR VEHICLE 1']].sample(5, random_state=1))"
   ]
  },
  {
   "cell_type": "code",
   "execution_count": null,
   "id": "90e9e7b7",
   "metadata": {},
   "outputs": [],
   "source": [
    "# #Examples for Filtering to data :\n",
    "# df2019=df[df['Full_Date']==]"
   ]
  },
  {
   "cell_type": "code",
   "execution_count": null,
   "id": "1c58c551",
   "metadata": {},
   "outputs": [],
   "source": [
    "# Step 1: Filter data by a specific date range\n",
    "# For example, let's select collisions between 2021-01-01 and 2021-12-31\n",
    "start_date = '2021-01-01'\n",
    "end_date = '2021-12-31'\n",
    "df_period = df[(df['Full_Date'] >= start_date) & (df['Full_Date'] <= end_date)]\n",
    "\n",
    "# Step 2: Filter data by borough\n",
    "df_manhattan = df_period[df_period['BOROUGH'] == 'Manhattan']\n",
    "\n",
    "# Step 3: Check the size of the filtered dataset\n",
    "print(\"Filtered dataset shape:\", df_manhattan.shape)\n",
    "\n",
    "# Step 4: Group by BOROUGH and compute total number of injured, sorted descending\n",
    "borough_injured = df_period.groupby('BOROUGH')['NUMBER OF PERSONS INJURED'].sum().sort_values(ascending=False)\n",
    "print(borough_injured)\n",
    "\n",
    "# Step 5: Extract year and month from Full_Date for time-based analysis\n",
    "df_period.loc[:, 'Year'] = df_period['Full_Date'].dt.year\n",
    "df_period.loc[:, 'Month'] = df_period['Full_Date'].dt.month\n",
    "\n",
    "# Step 6: Group by year and borough to count number of collisions per year per borough, sorted\n",
    "\n",
    "collisions_per_year = df_period.groupby(['Year', 'BOROUGH']).size().sort_values(ascending=False)\n",
    "print(collisions_per_year)\n",
    "\n",
    "# Step 7: Pivot table sorted by columns (borough alphabetically)\n",
    "pivot_table = df_period.pivot_table(\n",
    "    index='Year',\n",
    "    columns='BOROUGH',\n",
    "    values='COLLISION_ID',  \n",
    "    aggfunc='count'\n",
    ").sort_index(axis=1)  # sort borough columns alphabetically\n",
    "print(pivot_table)\n",
    "\n",
    "# Step 8: Correlation matrix, rounded and displayed nicely\n",
    "correlation_matrix = df_period[numeric_cols].corr().round(2)\n",
    "print(correlation_matrix)\n",
    "#***************i add more optional things to code ************************"
   ]
  },
  {
   "cell_type": "code",
   "execution_count": null,
   "id": "e1351280",
   "metadata": {},
   "outputs": [],
   "source": [
    "\n",
    "numeric_cols = [\n",
    "    'NUMBER OF PERSONS INJURED',\n",
    "    'NUMBER OF PERSONS KILLED',\n",
    "    'NUMBER OF PEDESTRIANS INJURED',\n",
    "    'NUMBER OF PEDESTRIANS KILLED',\n",
    "    'NUMBER OF CYCLIST INJURED',\n",
    "    'NUMBER OF CYCLIST KILLED',\n",
    "    'NUMBER OF MOTORIST INJURED',\n",
    "    'NUMBER OF MOTORIST KILLED'\n",
    "]\n",
    "\n",
    "\n",
    "numeric_summary = df[numeric_cols].describe()\n",
    "print(numeric_summary)\n",
    "\n",
    "medians = df[numeric_cols].median()\n",
    "print(\"Medians:\\n\", medians)\n"
   ]
  },
  {
   "cell_type": "code",
   "execution_count": null,
   "id": "784d9399",
   "metadata": {},
   "outputs": [],
   "source": [
    "df.to_json('collisions_clean.json', orient='records', lines=True)\n",
    "df.to_parquet('collisions_clean.parquet')"
   ]
  }
 ],
 "metadata": {
  "kernelspec": {
   "display_name": "venv (3.13.3)",
   "language": "python",
   "name": "python3"
  },
  "language_info": {
   "codemirror_mode": {
    "name": "ipython",
    "version": 3
   },
   "file_extension": ".py",
   "mimetype": "text/x-python",
   "name": "python",
   "nbconvert_exporter": "python",
   "pygments_lexer": "ipython3",
   "version": "3.13.3"
  }
 },
 "nbformat": 4,
 "nbformat_minor": 5
}
