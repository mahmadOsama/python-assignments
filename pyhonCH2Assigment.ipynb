{
  "cells": [
    {
      "cell_type": "markdown",
      "metadata": {
        "id": "6876K7Oh2mL5"
      },
      "source": [
        "# Python Basics Exercises\n",
        "**By: Mhd Shadi Hasan**\n",
        "\n",
        "\n",
        "## EX 1 - Profit Calculator\n",
        "\n",
        "Write a Python program that the user can use to calculate total profits using the equation:\n",
        "\n",
        "$Total Profit = Total Revenue - Total Expenses$\n",
        "\n",
        "The program should do the following:\n",
        "1. Ask the user to insert their total revenue and total expenses values.\n",
        "2. Calculate the total profit.\n",
        "3. Display the three values in a tidy manner (e.g. Total Profit = 100 JOD)\n",
        "4. The program should be able to perform accurate calculations on any numerical values the user inputs.\n",
        "\n",
        "## EX 2 - Rate of Return Calculator\n",
        "\n",
        "It's the year 2024. Recent AI applications and innovations resulted in high demand on computer chips. This made the stock prices go up for chips companies. Company FANTASTIC CHIPS's stock price was $63.48 on Jan 1st, 2024. An investor wants a program that allows them to calculate what the rate of return will be at the end of 2024 for every expected future stock price that they input to the program. The rate of return equation is:\n",
        "\n",
        "$RR = \\frac{V_f - V_i}{V_i} \\times 100 \\%$\n",
        "\n",
        "The program should do the following:\n",
        "1. Ask the user to input their expectation of the future stock price.\n",
        "2. Calculate the rate of return.\n",
        "3. Print the rate of return as a percentage.\n",
        "4. Print True if their rate of return was positive and False if negative.\n",
        "\n",
        "## EX 3 - Strings\n",
        "\n",
        "Write a program that does the following:\n",
        "\n",
        "1. Ask the user to input their name, age, and city name.\n",
        "2. Print to the output:\n",
        "\n",
        "```\n",
        "Hello [user name],\n",
        "Happy birthday! You're [age] years old now :)\n",
        "Do you need to find a nice restaurant in [city name] to celebrate?\n",
        "```\n",
        "\n",
        "No matter how the user inserts this information, make sure that the user name and city name are both capitalized (i.e. only the first letter must be in uppercase).\n",
        "\n",
        "Use a single `print()` command. Hint: check the python print function documentation to figure out how to do it ;)\n",
        "\n",
        "**P.S. ALL CODE MUST BE CLEAN, READABLE, WELL EXPLAINED, AND FOLLOWS THE PEP 8 STYLE GUIDE.**\n",
        "\n",
        "Happy coding!!"
      ]
    },
    {
      "cell_type": "code",
      "execution_count": 1,
      "metadata": {
        "id": "k5Q3ZB562YWf"
      },
      "outputs": [
        {
          "name": "stdout",
          "output_type": "stream",
          "text": [
            "Welcome to the Profit Calculation Program :) \n",
            "Please enter your revenue amount : \n",
            "Please enter the amount of your expenses. : \n",
            "________________________________________________\n",
            "Total Revenue =  1000.0 JD\n",
            "Total Expenses =  500.0 JD\n",
            "Total Profit =  500.0 JD\n"
          ]
        }
      ],
      "source": [
        "# This program calculates the total profit by:\n",
        "# 1. Asking the user to input total revenue and total expenses.\n",
        "# 2. Converting the inputs to floating-point numbers for accurate calculations.\n",
        "# 3. Computing the total profit as revenue minus expenses.\n",
        "# 4. Displaying all values (revenue, expenses, profit) in a tidy format with \"JD\" currency.\n",
        "print(\"Welcome to the Profit Calculation Program :) \")\n",
        "print(\"Please enter your revenue amount : \")\n",
        "total_revenue= float (input())\n",
        "print(\"Please enter the amount of your expenses. : \")\n",
        "total_expense=float(input())\n",
        "total_profit=total_revenue-total_expense\n",
        "print (\"________________________________________________\")\n",
        "print(\"Total Revenue = \",total_revenue,\"JD\")\n",
        "print(\"Total Expenses = \",total_expense,\"JD\")\n",
        "print(\"Total Profit = \",total_profit,\"JD\")"
      ]
    },
    {
      "cell_type": "code",
      "execution_count": 3,
      "metadata": {},
      "outputs": [
        {
          "name": "stdout",
          "output_type": "stream",
          "text": [
            "Welcome to the Return Calculation Program\n",
            "Please enter the expected price of the stock in the future:\n",
            "_________________________________________________\n",
            "Rate of Return =  -21.235 %\n",
            "False\n"
          ]
        }
      ],
      "source": [
        "# This program calculates the Rate of Return (RR) for the stock of FANTASTIC CHIPS.\n",
        "# It asks the user to input the expected future stock price.\n",
        "# Then, it computes the rate of return as a percentage.\n",
        "# Finally, it prints the rate of return and indicates whether it is positive or negative.\n",
        "print(\"Welcome to the Return Calculation Program\")\n",
        "initial_stock_price=63.48\n",
        "print(\"Please enter the expected price of the stock in the future:\")\n",
        "future_stock_price=float(input())\n",
        "rr = ((future_stock_price - initial_stock_price) / initial_stock_price) * 100\n",
        "print(\"_________________________________________________\")\n",
        "print (\"Rate of Return = \",round(rr,3),\"%\")\n",
        "if rr > 0:\n",
        "  print(\"True\")\n",
        "else:\n",
        "  print(\"False\")"
      ]
    },
    {
      "cell_type": "code",
      "execution_count": 4,
      "metadata": {
        "id": "rFN-tHj-D1tt"
      },
      "outputs": [
        {
          "name": "stdout",
          "output_type": "stream",
          "text": [
            "\n",
            "Hello Mahamd,\n",
            "Happy birthday! You're 23 years old now :)\n",
            "Do you need to find a nice restaurant in Amman to celebrate?\n"
          ]
        }
      ],
      "source": [
        "# This program asks the user to enter their name, age, and city name.\n",
        "# It then displays a birthday message with proper formatting using a single print() command.\n",
        "\n",
        "name = input(\"Please enter your name: \").capitalize()\n",
        "age = int(input(\"Please enter your age: \"))\n",
        "city = input(\"Please enter the name of the city you currently live in: \").capitalize()\n",
        "\n",
        "print(f\"\\nHello {name},\\nHappy birthday! You're {age} years old now :)\\nDo you need to find a nice restaurant in {city} to celebrate?\")\n"
      ]
    }
  ],
  "metadata": {
    "colab": {
      "provenance": []
    },
    "kernelspec": {
      "display_name": "Python 3",
      "name": "python3"
    },
    "language_info": {
      "codemirror_mode": {
        "name": "ipython",
        "version": 3
      },
      "file_extension": ".py",
      "mimetype": "text/x-python",
      "name": "python",
      "nbconvert_exporter": "python",
      "pygments_lexer": "ipython3",
      "version": "3.12.4"
    }
  },
  "nbformat": 4,
  "nbformat_minor": 0
}
